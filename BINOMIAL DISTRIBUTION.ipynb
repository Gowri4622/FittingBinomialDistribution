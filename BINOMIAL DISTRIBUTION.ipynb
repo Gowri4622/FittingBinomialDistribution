{
 "cells": [
  {
   "cell_type": "code",
   "execution_count": 1,
   "metadata": {},
   "outputs": [],
   "source": [
    "import numpy as np\n",
    "import math\n",
    "import scipy.stats\n"
   ]
  },
  {
   "cell_type": "code",
   "execution_count": 2,
   "metadata": {},
   "outputs": [],
   "source": [
    "X=[0,1,2,3,4,5,6]\n",
    "f=[13,25,52,68,32,16,4]\n"
   ]
  },
  {
   "cell_type": "code",
   "execution_count": 3,
   "metadata": {},
   "outputs": [],
   "source": [
    "n=6\n",
    "N=np.sum(f)"
   ]
  },
  {
   "cell_type": "code",
   "execution_count": 4,
   "metadata": {},
   "outputs": [],
   "source": [
    "mean=np.inner(X,f)/N"
   ]
  },
  {
   "cell_type": "code",
   "execution_count": 5,
   "metadata": {},
   "outputs": [],
   "source": [
    "p=mean/n"
   ]
  },
  {
   "cell_type": "code",
   "execution_count": 6,
   "metadata": {},
   "outputs": [],
   "source": [
    "q=1-p"
   ]
  },
  {
   "cell_type": "code",
   "execution_count": 7,
   "metadata": {},
   "outputs": [],
   "source": [
    "Prob=list(); \n",
    "E=list(); \n",
    "xi=list()"
   ]
  },
  {
   "cell_type": "code",
   "execution_count": 10,
   "metadata": {},
   "outputs": [
    {
     "name": "stdout",
     "output_type": "stream",
     "text": [
      "  X  P(X=x)  Obs.Fr  Ex.Fre     xi \n",
      "--------------------------------------\n",
      "0.00  0.00   13.00   0.00   inf\n",
      "1.00  0.00   25.00   0.00   inf\n",
      "2.00  7.42   52.00   1558.23   1455.97\n",
      "3.00  29.68   68.00   6232.94   6097.68\n",
      "4.00  44.52   32.00   9349.40   9285.51\n",
      "5.00  29.68   16.00   6232.94   6200.98\n",
      "6.00  7.42   4.00   1558.23   1550.24\n",
      "----------------------------------\n",
      "Calculated value of Chi square is  inf\n",
      "Table value of Chi square at 1  level is 16.81\n",
      "The given data cannot be fitted in binomial distribution at 1% LOS\n"
     ]
    },
    {
     "name": "stderr",
     "output_type": "stream",
     "text": [
      "<ipython-input-10-b97be12c301a>:7: RuntimeWarning: divide by zero encountered in double_scalars\n",
      "  xi.append((f[x]-E[x])**2/E[x])\n"
     ]
    }
   ],
   "source": [
    "print(\"  X  P(X=x)  Obs.Fr  Ex.Fre     xi \")\n",
    "print(\"--------------------------------------\")\n",
    "for x in range(7):\n",
    "    c=math.factorial(n)/(math.factorial(x)*math.factorial(n-x))\n",
    "    Prob.append(c*p*x*q*(n-x))\n",
    "    E.append(Prob[x]*N)\n",
    "    xi.append((f[x]-E[x])**2/E[x])\n",
    "    print(\"%2.2f  %2.2f   %4.2f   %3.2f   %3.2f\"%(x,Prob[x],f[x],E[x],xi[x]))\n",
    "print(\"----------------------------------\")\n",
    "calculate_chi2=np.sum(xi)\n",
    "print(\"Calculated value of Chi square is %4.2f\"%calculate_chi2)\n",
    "tab_chi2=scipy.stats.chi2.ppf(1-.01, df=n)\n",
    "print(\"Table value of Chi square at 1  level is %4.2f\"%tab_chi2)\n",
    "if calculate_chi2<tab_chi2:\n",
    "    print(\"The given data can be fitted in binomial distribution at 1% LOS\")\n",
    "else:\n",
    "    print(\"The given data cannot be fitted in binomial distribution at 1% LOS\")"
   ]
  },
  {
   "cell_type": "code",
   "execution_count": null,
   "metadata": {},
   "outputs": [],
   "source": []
  }
 ],
 "metadata": {
  "kernelspec": {
   "display_name": "Python 3",
   "language": "python",
   "name": "python3"
  },
  "language_info": {
   "codemirror_mode": {
    "name": "ipython",
    "version": 3
   },
   "file_extension": ".py",
   "mimetype": "text/x-python",
   "name": "python",
   "nbconvert_exporter": "python",
   "pygments_lexer": "ipython3",
   "version": "3.8.5"
  }
 },
 "nbformat": 4,
 "nbformat_minor": 4
}
